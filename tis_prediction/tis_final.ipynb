{
 "cells": [
  {
   "cell_type": "markdown",
   "metadata": {
    "Collapsed": "false",
    "colab_type": "text",
    "id": "view-in-github"
   },
   "source": [
    "<a href=\"https://colab.research.google.com/github/alotfipoor/PythonProjects/blob/master/TIS_Index/TIS_colab.ipynb\" target=\"_parent\"><img src=\"https://colab.research.google.com/assets/colab-badge.svg\" alt=\"Open In Colab\"/></a>"
   ]
  },
  {
   "cell_type": "markdown",
   "metadata": {
    "Collapsed": "false",
    "colab_type": "text",
    "id": "C0D25vMg4sGd"
   },
   "source": [
    "# TIS notebook"
   ]
  },
  {
   "cell_type": "markdown",
   "metadata": {
    "Collapsed": "false",
    "colab_type": "text",
    "id": "ryuCVHQk4sGi"
   },
   "source": [
    "#Notebook settings and importing packages"
   ]
  },
  {
   "cell_type": "code",
   "execution_count": 31,
   "metadata": {
    "Collapsed": "false",
    "colab": {},
    "colab_type": "code",
    "id": "3URlqM9z4sGj"
   },
   "outputs": [],
   "source": [
    "# To support both python 2 and python 3\n",
    "from __future__ import division, print_function, unicode_literals\n",
    "\n",
    "# Common imports\n",
    "import numpy as np\n",
    "import os\n",
    "import warnings\n",
    "warnings.simplefilter(action='ignore', category=FutureWarning)\n",
    "warnings.simplefilter(action='ignore', category=DeprecationWarning)\n",
    "import pandas as pd\n",
    "\n",
    "# To plot pretty figures\n",
    "%matplotlib inline\n",
    "import matplotlib as mpl\n",
    "import matplotlib.pyplot as plt\n",
    "mpl.rc('axes', labelsize=14)\n",
    "mpl.rc('xtick', labelsize=12)\n",
    "mpl.rc('ytick', labelsize=12)\n",
    "\n",
    "# to make this notebook's output stable across runs\n",
    "np.random.seed(42)"
   ]
  },
  {
   "cell_type": "markdown",
   "metadata": {
    "Collapsed": "false",
    "colab_type": "text",
    "id": "UzjhAfA14sGp"
   },
   "source": [
    "Read data from file 'raw_v2.csv'\n",
    "(in the same directory that your python process is based)"
   ]
  },
  {
   "cell_type": "code",
   "execution_count": 2,
   "metadata": {
    "Collapsed": "false",
    "colab": {},
    "colab_type": "code",
    "id": "Dt-LWh_F4sGr"
   },
   "outputs": [],
   "source": [
    "datatis = pd.read_csv(\"raw_v2.csv\")"
   ]
  },
  {
   "cell_type": "markdown",
   "metadata": {
    "Collapsed": "false",
    "colab_type": "text",
    "id": "0J6gtzae4sGv"
   },
   "source": [
    "#Preview the first 10 lines of the loaded data"
   ]
  },
  {
   "cell_type": "code",
   "execution_count": 3,
   "metadata": {
    "Collapsed": "false",
    "colab": {
     "base_uri": "https://localhost:8080/",
     "height": 359
    },
    "colab_type": "code",
    "id": "l8mSv1wA4sGw",
    "outputId": "41391390-9c2b-4f5e-aa41-2b4c5e37e660"
   },
   "outputs": [
    {
     "data": {
      "text/html": [
       "<div>\n",
       "<style scoped>\n",
       "    .dataframe tbody tr th:only-of-type {\n",
       "        vertical-align: middle;\n",
       "    }\n",
       "\n",
       "    .dataframe tbody tr th {\n",
       "        vertical-align: top;\n",
       "    }\n",
       "\n",
       "    .dataframe thead th {\n",
       "        text-align: right;\n",
       "    }\n",
       "</style>\n",
       "<table border=\"1\" class=\"dataframe\">\n",
       "  <thead>\n",
       "    <tr style=\"text-align: right;\">\n",
       "      <th></th>\n",
       "      <th>WI</th>\n",
       "      <th>DT</th>\n",
       "      <th>HC</th>\n",
       "      <th>RP</th>\n",
       "      <th>OS</th>\n",
       "      <th>Class</th>\n",
       "    </tr>\n",
       "  </thead>\n",
       "  <tbody>\n",
       "    <tr>\n",
       "      <th>0</th>\n",
       "      <td>5</td>\n",
       "      <td>5.0</td>\n",
       "      <td>5</td>\n",
       "      <td>7</td>\n",
       "      <td>6</td>\n",
       "      <td>Drop in discharge</td>\n",
       "    </tr>\n",
       "    <tr>\n",
       "      <th>1</th>\n",
       "      <td>5</td>\n",
       "      <td>4.5</td>\n",
       "      <td>9</td>\n",
       "      <td>7</td>\n",
       "      <td>8</td>\n",
       "      <td>Drop in discharge</td>\n",
       "    </tr>\n",
       "    <tr>\n",
       "      <th>2</th>\n",
       "      <td>5</td>\n",
       "      <td>4.0</td>\n",
       "      <td>6</td>\n",
       "      <td>7</td>\n",
       "      <td>8</td>\n",
       "      <td>Drop in discharge</td>\n",
       "    </tr>\n",
       "    <tr>\n",
       "      <th>3</th>\n",
       "      <td>5</td>\n",
       "      <td>0.5</td>\n",
       "      <td>3</td>\n",
       "      <td>7</td>\n",
       "      <td>8</td>\n",
       "      <td>Not influenced</td>\n",
       "    </tr>\n",
       "    <tr>\n",
       "      <th>4</th>\n",
       "      <td>5</td>\n",
       "      <td>0.1</td>\n",
       "      <td>3</td>\n",
       "      <td>7</td>\n",
       "      <td>8</td>\n",
       "      <td>Not influenced</td>\n",
       "    </tr>\n",
       "    <tr>\n",
       "      <th>5</th>\n",
       "      <td>9</td>\n",
       "      <td>7.0</td>\n",
       "      <td>0</td>\n",
       "      <td>9</td>\n",
       "      <td>0</td>\n",
       "      <td>Not influenced</td>\n",
       "    </tr>\n",
       "    <tr>\n",
       "      <th>6</th>\n",
       "      <td>9</td>\n",
       "      <td>7.0</td>\n",
       "      <td>0</td>\n",
       "      <td>9</td>\n",
       "      <td>0</td>\n",
       "      <td>Not influenced</td>\n",
       "    </tr>\n",
       "    <tr>\n",
       "      <th>7</th>\n",
       "      <td>9</td>\n",
       "      <td>7.0</td>\n",
       "      <td>1</td>\n",
       "      <td>9</td>\n",
       "      <td>3</td>\n",
       "      <td>Drop in discharge</td>\n",
       "    </tr>\n",
       "    <tr>\n",
       "      <th>8</th>\n",
       "      <td>9</td>\n",
       "      <td>6.8</td>\n",
       "      <td>10</td>\n",
       "      <td>9</td>\n",
       "      <td>10</td>\n",
       "      <td>Completely dried up</td>\n",
       "    </tr>\n",
       "    <tr>\n",
       "      <th>9</th>\n",
       "      <td>9</td>\n",
       "      <td>6.8</td>\n",
       "      <td>10</td>\n",
       "      <td>9</td>\n",
       "      <td>10</td>\n",
       "      <td>Completely dried up</td>\n",
       "    </tr>\n",
       "  </tbody>\n",
       "</table>\n",
       "</div>"
      ],
      "text/plain": [
       "   WI   DT  HC  RP  OS                Class\n",
       "0   5  5.0   5   7   6    Drop in discharge\n",
       "1   5  4.5   9   7   8    Drop in discharge\n",
       "2   5  4.0   6   7   8    Drop in discharge\n",
       "3   5  0.5   3   7   8       Not influenced\n",
       "4   5  0.1   3   7   8       Not influenced\n",
       "5   9  7.0   0   9   0       Not influenced\n",
       "6   9  7.0   0   9   0       Not influenced\n",
       "7   9  7.0   1   9   3    Drop in discharge\n",
       "8   9  6.8  10   9  10  Completely dried up\n",
       "9   9  6.8  10   9  10  Completely dried up"
      ]
     },
     "execution_count": 3,
     "metadata": {},
     "output_type": "execute_result"
    }
   ],
   "source": [
    "datatis.head(10)"
   ]
  },
  {
   "cell_type": "markdown",
   "metadata": {
    "Collapsed": "false",
    "colab_type": "text",
    "id": "Bfy1FOcR4sG4"
   },
   "source": [
    "#Import train_test_split function"
   ]
  },
  {
   "cell_type": "code",
   "execution_count": 4,
   "metadata": {
    "Collapsed": "false",
    "colab": {},
    "colab_type": "code",
    "id": "hTZSMGZ_4sG5"
   },
   "outputs": [],
   "source": [
    "from sklearn.model_selection import train_test_split"
   ]
  },
  {
   "cell_type": "code",
   "execution_count": 5,
   "metadata": {
    "Collapsed": "false",
    "colab": {},
    "colab_type": "code",
    "id": "GLwf01pn4sG-"
   },
   "outputs": [],
   "source": [
    "x = datatis[['WI','DT','HC','RP','OS']]\n",
    "y = datatis['Class']  # Labels"
   ]
  },
  {
   "cell_type": "markdown",
   "metadata": {
    "Collapsed": "false",
    "colab_type": "text",
    "id": "JMrZoZVg4sHC"
   },
   "source": [
    "#Split dataset into training set and test set"
   ]
  },
  {
   "cell_type": "code",
   "execution_count": 6,
   "metadata": {
    "Collapsed": "false",
    "colab": {},
    "colab_type": "code",
    "id": "HEMHjntF4sHD"
   },
   "outputs": [],
   "source": [
    "x_train, x_test, y_train, y_test = train_test_split(x, y, test_size=0.3) # 70% training and 30% test"
   ]
  },
  {
   "cell_type": "markdown",
   "metadata": {
    "Collapsed": "false",
    "colab_type": "text",
    "id": "g5j2m5014sHK"
   },
   "source": [
    "## Random Forest Model"
   ]
  },
  {
   "cell_type": "markdown",
   "metadata": {
    "Collapsed": "false",
    "colab_type": "text",
    "id": "iGyBZYyp4sHM"
   },
   "source": [
    "Train the model using the training sets and import confusion matrix"
   ]
  },
  {
   "cell_type": "code",
   "execution_count": 7,
   "metadata": {
    "Collapsed": "false",
    "colab": {},
    "colab_type": "code",
    "id": "_RW2rpDw4sHN"
   },
   "outputs": [],
   "source": [
    "from sklearn.metrics import confusion_matrix\n",
    "from sklearn.ensemble import RandomForestClassifier\n",
    "from sklearn.model_selection import cross_val_score, cross_val_predict, KFold, LeaveOneOut, GridSearchCV\n",
    "\n",
    "# Create a Gaussian Classifier\n",
    "forest_clf = RandomForestClassifier()"
   ]
  },
  {
   "cell_type": "markdown",
   "metadata": {
    "Collapsed": "false",
    "colab_type": "text",
    "id": "L9QGtNeu4sHR"
   },
   "source": [
    "#Train the model using cross validation"
   ]
  },
  {
   "cell_type": "code",
   "execution_count": 18,
   "metadata": {
    "Collapsed": "false",
    "colab": {},
    "colab_type": "code",
    "id": "GYHLSwmY4sHS"
   },
   "outputs": [
    {
     "name": "stdout",
     "output_type": "stream",
     "text": [
      "Cross-validated scores: \n",
      " 0.8300000000000001\n"
     ]
    }
   ],
   "source": [
    "# kfold\n",
    "\n",
    "kfold = KFold(n_splits=5, shuffle=True, random_state=0)\n",
    "\n",
    "scores = cross_val_score(forest_clf, x_train, y_train, cv=kfold)\n",
    "\n",
    "print('Cross-validated scores:', '\\n', scores.mean())\n",
    "\n",
    "y_pred_cross = cross_val_predict(forest_clf, x_train, y_train, cv=kfold)"
   ]
  },
  {
   "cell_type": "code",
   "execution_count": 22,
   "metadata": {
    "Collapsed": "false",
    "colab": {},
    "colab_type": "code",
    "id": "FOmIxrUnX12-"
   },
   "outputs": [
    {
     "name": "stdout",
     "output_type": "stream",
     "text": [
      "Cross-validated scores: \n",
      " 0.8701298701298701\n"
     ]
    }
   ],
   "source": [
    "# Leave-one-out cross-validation\n",
    "\n",
    "loo = LeaveOneOut()\n",
    "\n",
    "scores = cross_val_score(forest_clf, x_train, y_train, cv=loo)\n",
    "\n",
    "print('Cross-validated scores:', '\\n', scores.mean())\n",
    "\n",
    "y_pred_cross = cross_val_predict(forest_clf, x_train, y_train, cv=kfold)"
   ]
  },
  {
   "cell_type": "markdown",
   "metadata": {
    "Collapsed": "false",
    "colab_type": "text",
    "id": "5RDYPeky4sHW"
   },
   "source": [
    "# Performance measures on training data"
   ]
  },
  {
   "cell_type": "code",
   "execution_count": 29,
   "metadata": {
    "Collapsed": "false",
    "colab": {},
    "colab_type": "code",
    "id": "xcoK_czFPsI1"
   },
   "outputs": [
    {
     "name": "stdout",
     "output_type": "stream",
     "text": [
      "Accuracy: 0.8311688311688312\n",
      "Percision: 0.8311688311688312\n",
      "Recall: 0.8311688311688312\n",
      "F1 score: 0.8311688311688312\n",
      "confusion Matrix: \n",
      " [[18  0  0  0]\n",
      " [ 1 13  2  0]\n",
      " [ 0  3  9  5]\n",
      " [ 0  0  2 24]]\n"
     ]
    }
   ],
   "source": [
    "from sklearn.metrics import recall_score, precision_score, f1_score, confusion_matrix, accuracy_score\n",
    "print(\"Accuracy:\",accuracy_score(y_train, y_pred_cross))\n",
    "print(\"Percision:\",precision_score(y_train, y_pred_cross, average='micro'))\n",
    "print(\"Recall:\",recall_score(y_train, y_pred_cross, average='micro'))\n",
    "print(\"F1 score:\",f1_score(y_train, y_pred_cross, average='micro'))\n",
    "print(\"confusion Matrix:\",\"\\n\",confusion_matrix(y_train, y_pred_cross))"
   ]
  },
  {
   "cell_type": "markdown",
   "metadata": {
    "Collapsed": "false",
    "colab_type": "text",
    "id": "tPftc_MHU4SS"
   },
   "source": [
    "# Grid Search"
   ]
  },
  {
   "cell_type": "code",
   "execution_count": 33,
   "metadata": {
    "Collapsed": "false",
    "colab": {
     "base_uri": "https://localhost:8080/",
     "height": 258
    },
    "colab_type": "code",
    "id": "5-5CxyG-Uz4F",
    "outputId": "e2ec2d95-9263-4638-d9d2-d76684b18c97"
   },
   "outputs": [
    {
     "name": "stdout",
     "output_type": "stream",
     "text": [
      "Best parameters:  {'bootstrap': False, 'max_features': 2, 'n_estimators': 3}\n",
      "Best cross-validation score:  0.9090909090909091\n",
      "Test set score:  0.8529411764705882\n",
      "Best estimator:\n",
      "{} RandomForestClassifier(bootstrap=False, class_weight=None, criterion='gini',\n",
      "            max_depth=None, max_features=2, max_leaf_nodes=None,\n",
      "            min_impurity_decrease=0.0, min_impurity_split=None,\n",
      "            min_samples_leaf=1, min_samples_split=2,\n",
      "            min_weight_fraction_leaf=0.0, n_estimators=3, n_jobs=None,\n",
      "            oob_score=False, random_state=None, verbose=0,\n",
      "            warm_start=False)\n"
     ]
    }
   ],
   "source": [
    "param_grid = [{'bootstrap': [False, True], 'n_estimators': [3, 5, 7], 'max_features': [2, 3, 4, 5]}]\n",
    "\n",
    "grid_search = GridSearchCV(forest_clf, param_grid, cv=5)\n",
    "\n",
    "grid_search.fit(x_train,y_train)\n",
    "\n",
    "y_pred = grid_search.predict(x_test)\n",
    "\n",
    "\n",
    "print(\"Best parameters: \", format(grid_search.best_params_))\n",
    "print(\"Best cross-validation score: \", format(grid_search.best_score_))\n",
    "print(\"Test set score: \", format(grid_search.score(x_test, y_test)))\n",
    "print(\"Best estimator:\\n{}\", format(grid_search.best_estimator_))"
   ]
  },
  {
   "cell_type": "markdown",
   "metadata": {
    "Collapsed": "false",
    "colab_type": "text",
    "id": "qC9Rj27Y4sHX",
    "toc-hr-collapsed": false
   },
   "source": [
    "# Performance Measures on test data\n",
    "Accuracy, Percision, Recall, F1 Score and Confusion Matrix"
   ]
  },
  {
   "cell_type": "code",
   "execution_count": 35,
   "metadata": {
    "Collapsed": "false",
    "colab": {
     "base_uri": "https://localhost:8080/",
     "height": 170
    },
    "colab_type": "code",
    "id": "OLH-a3oD4sHa",
    "outputId": "a32f126f-c0d3-4f45-b133-3e00929b810e"
   },
   "outputs": [
    {
     "name": "stdout",
     "output_type": "stream",
     "text": [
      "Accuracy: 0.8529411764705882\n",
      "Percision: 0.8529411764705882\n",
      "Recall: 0.8529411764705882\n",
      "F1 score: 0.8529411764705882\n",
      "confusion Matrix: \n",
      " [[11  0  0  0]\n",
      " [ 0  1  1  0]\n",
      " [ 0  0  7  1]\n",
      " [ 0  0  3 10]]\n"
     ]
    }
   ],
   "source": [
    "from sklearn.metrics import recall_score, precision_score, f1_score, confusion_matrix, accuracy_score\n",
    "print(\"Accuracy:\",accuracy_score(y_test, y_pred))\n",
    "print(\"Percision:\",precision_score(y_test,y_pred, average='micro'))\n",
    "print(\"Recall:\",recall_score(y_test,y_pred, average='micro'))\n",
    "print(\"F1 score:\",f1_score(y_test,y_pred, average='micro'))\n",
    "print(\"confusion Matrix:\",\"\\n\",confusion_matrix(y_test,y_pred))"
   ]
  },
  {
   "cell_type": "code",
   "execution_count": 44,
   "metadata": {
    "Collapsed": "false",
    "colab": {
     "base_uri": "https://localhost:8080/",
     "height": 307
    },
    "colab_type": "code",
    "id": "01ZqT8Z94sHj",
    "outputId": "93702a7a-8a3b-45b6-d91e-21b32d6c16a0"
   },
   "outputs": [
    {
     "data": {
      "text/plain": [
       "([0, 1, 2, 3], <a list of 4 Text xticklabel objects>)"
      ]
     },
     "execution_count": 44,
     "metadata": {},
     "output_type": "execute_result"
    },
    {
     "data": {
      "image/png": "[encoded data removed]",
      "text/plain": [
       "<Figure size 432x288 with 1 Axes>"
      ]
     },
     "metadata": {
      "needs_background": "light"
     },
     "output_type": "display_data"
    }
   ],
   "source": [
    "## The line / model\n",
    "plt.scatter(y_test, y_pred, marker='x', color='red')\n",
    "plt.xlabel('True Values')\n",
    "plt.ylabel('Predictions')\n",
    "plt.xticks(rotation=25)"
   ]
  },
  {
   "cell_type": "markdown",
   "metadata": {
    "Collapsed": "false",
    "colab_type": "text",
    "id": "_iWKF2TRmpPl"
   },
   "source": [
    "# Plot confusion matrix"
   ]
  },
  {
   "cell_type": "code",
   "execution_count": 28,
   "metadata": {
    "Collapsed": "false",
    "colab": {
     "base_uri": "https://localhost:8080/",
     "height": 278
    },
    "colab_type": "code",
    "id": "5F9umWFP4sHu",
    "outputId": "7e3ac7e4-b6bb-4984-cc8d-40023ef2bdbf"
   },
   "outputs": [
    {
     "data": {
      "image/png": "[encoded data removed]",
      "text/plain": [
       "<Figure size 288x288 with 1 Axes>"
      ]
     },
     "metadata": {
      "needs_background": "light"
     },
     "output_type": "display_data"
    }
   ],
   "source": [
    "conf_mx_cross = confusion_matrix(y_train, y_pred_cross)\n",
    "\n",
    "plt.matshow(conf_mx_cross, cmap=plt.cm.gray)\n",
    "plt.show()"
   ]
  }
 ],
 "metadata": {
  "colab": {
   "include_colab_link": true,
   "name": "TIS.ipynb",
   "provenance": [],
   "toc_visible": true,
   "version": "0.3.2"
  },
  "kernelspec": {
   "display_name": "Python 3",
   "language": "python",
   "name": "python3"
  },
  "language_info": {
   "codemirror_mode": {
    "name": "ipython",
    "version": 3
   },
   "file_extension": ".py",
   "mimetype": "text/x-python",
   "name": "python",
   "nbconvert_exporter": "python",
   "pygments_lexer": "ipython3",
   "version": "3.7.6"
  }
 },
 "nbformat": 4,
 "nbformat_minor": 4
}
